{
  "nbformat": 4,
  "nbformat_minor": 0,
  "metadata": {
    "colab": {
      "provenance": [],
      "authorship_tag": "ABX9TyPT42mIyPVZ440x5X9K/WYS",
      "include_colab_link": true
    },
    "kernelspec": {
      "name": "python3",
      "display_name": "Python 3"
    },
    "language_info": {
      "name": "python"
    }
  },
  "cells": [
    {
      "cell_type": "markdown",
      "metadata": {
        "id": "view-in-github",
        "colab_type": "text"
      },
      "source": [
        "<a href=\"https://colab.research.google.com/github/Alishkhan2501/-Dynamic-Resume-Builder/blob/main/Rock_paper_scissors_Python_Project.ipynb\" target=\"_parent\"><img src=\"https://colab.research.google.com/assets/colab-badge.svg\" alt=\"Open In Colab\"/></a>"
      ]
    },
    {
      "cell_type": "code",
      "execution_count": 3,
      "metadata": {
        "colab": {
          "base_uri": "https://localhost:8080/"
        },
        "id": "uZuCbvZF1b62",
        "outputId": "dab5e871-c63d-48af-edbf-9c4785da12b1"
      },
      "outputs": [
        {
          "output_type": "stream",
          "name": "stdout",
          "text": [
            "Welcome to Rock-Paper-Scissors game!\n",
            "What's your choice? ('r' for Rock, 'p' for Paper, 's' for Scissors): p\n",
            "\n",
            "You chose: Paper\n",
            "The computer chose: Rock\n",
            "\n",
            "You won!\n",
            "Your score: 1 | Computer's score: 0\n",
            "\n",
            "Do you want to play again? (y/n): r\n",
            "\n",
            "Thanks for playing! Final Score:\n",
            "Your final score: 1\n",
            "Computer's final score: 0\n"
          ]
        }
      ],
      "source": [
        "import random\n",
        "\n",
        "def get_user_choice():\n",
        "    \"\"\"Get and validate the user's input.\"\"\"\n",
        "    while True:\n",
        "        user_input = input(\"What's your choice? ('r' for Rock, 'p' for Paper, 's' for Scissors): \").lower()\n",
        "        if user_input in ['r', 'p', 's']:\n",
        "            return user_input\n",
        "        print(\"Invalid input! Please enter 'r', 'p', or 's'.\")\n",
        "\n",
        "def get_computer_choice():\n",
        "    \"\"\"Generate a random choice for the computer.\"\"\"\n",
        "    return random.choice(['r', 'p', 's'])\n",
        "\n",
        "def choice_to_name(choice):\n",
        "    \"\"\"Convert the letter choice to full name.\"\"\"\n",
        "    if choice == 'r':\n",
        "        return \"Rock\"\n",
        "    elif choice == 'p':\n",
        "        return \"Paper\"\n",
        "    elif choice == 's':\n",
        "        return \"Scissors\"\n",
        "\n",
        "def is_win(player, opponent):\n",
        "    \"\"\"Determine if the player wins.\"\"\"\n",
        "    return (player == 'r' and opponent == 's') or (player == 's' and opponent == 'p') or (player == 'p' and opponent == 'r')\n",
        "\n",
        "def play_round():\n",
        "    \"\"\"Play a single round of the game.\"\"\"\n",
        "    user = get_user_choice()\n",
        "    computer = get_computer_choice()\n",
        "\n",
        "    print(f\"\\nYou chose: {choice_to_name(user)}\")\n",
        "    print(f\"The computer chose: {choice_to_name(computer)}\")\n",
        "\n",
        "    # Check for tie\n",
        "    if user == computer:\n",
        "        return \"It's a tie!\", 0, 0\n",
        "\n",
        "    # Check if the user wins\n",
        "    if is_win(user, computer):\n",
        "        return \"You won!\", 1, 0\n",
        "\n",
        "    # If not a tie and user didn't win, user lost\n",
        "    return \"You lost!\", 0, 1\n",
        "\n",
        "def play():\n",
        "    \"\"\"Main function to play the game with score tracking.\"\"\"\n",
        "    user_score = 0\n",
        "    computer_score = 0\n",
        "\n",
        "    print(\"Welcome to Rock-Paper-Scissors game!\")\n",
        "\n",
        "    while True:\n",
        "        result, user_points, computer_points = play_round()\n",
        "\n",
        "        #  scores\n",
        "        user_score += user_points\n",
        "        computer_score += computer_points\n",
        "\n",
        "        print(f\"\\n{result}\")\n",
        "        print(f\"Your score: {user_score} | Computer's score: {computer_score}\")\n",
        "\n",
        "        # Ask if the user wants to play again\n",
        "        play_again = input(\"\\nDo you want to play again? (y/n): \").lower()\n",
        "        if play_again != 'y':\n",
        "            print(\"\\nThanks for playing! Final Score:\")\n",
        "            print(f\"Your final score: {user_score}\")\n",
        "            print(f\"Computer's final score: {computer_score}\")\n",
        "            break\n",
        "\n",
        "if __name__ == '__main__':\n",
        "    play()\n"
      ]
    }
  ]
}